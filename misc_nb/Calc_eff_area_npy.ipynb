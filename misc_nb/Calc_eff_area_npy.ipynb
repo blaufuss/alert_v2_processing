{
 "cells": [
  {
   "cell_type": "code",
   "execution_count": null,
   "metadata": {},
   "outputs": [],
   "source": [
    "import numpy as np\n",
    "import matplotlib.pyplot as plt\n"
   ]
  },
  {
   "cell_type": "code",
   "execution_count": null,
   "metadata": {},
   "outputs": [],
   "source": [
    "def calc_effa(mc, coszen_min, coszen_max, bins_log10E, n_events):\n",
    "        \"\"\"\n",
    "        Calculate the effective area of the dataset\n",
    "\n",
    "        mc: numpy.ndarray\n",
    "                Simulation data\n",
    "        coszen_min: float, radians\n",
    "                Starting zenith of your area of sky\n",
    "        coszen_max: float, radians\n",
    "                Ending zenith of your area of sky\n",
    "        bins_log10E: list\n",
    "                The energy bins in log space\n",
    "        \"\"\"\n",
    "        \n",
    "        # Prepare the pieces that go into the effective area\n",
    "        solid_ang = 2.0 * np.pi * (coszen_max - coszen_min)\n",
    "        ow = mc['OneWeight']                                       # Simulation OneWeight/Nevents (GeV cm^2 sr)\n",
    "        true_E = mc['PrimEnergy']\n",
    "        print(\"Coszen select:\",coszen_min,coszen_max)\n",
    "        # Create a mask that selects the dec band\n",
    "        coszen = np.cos(mc['PrimZenith'])\n",
    "        gfu_filter = mc['PassGFU']\n",
    "        mask = (coszen_min <= coszen) & (coszen < coszen_max) & gfu_filter\n",
    "        print(\"Events:\",len(ow[mask]), len(ow))\n",
    "        \n",
    "        # Weights, bins, and histogram\n",
    "        bin_width_log10E = np.diff(bins_log10E)\n",
    "        weights_Aeff = (ow[mask] * 1e-4) / (solid_ang*n_events)\n",
    "        h = np.histogram(true_E[mask], bins=bins_log10E, weights=weights_Aeff)[0]/bin_width_log10E\n",
    "        return h\n"
   ]
  },
  {
   "cell_type": "code",
   "execution_count": null,
   "metadata": {},
   "outputs": [],
   "source": [
    "#hard coded for mc sample:\n",
    "n_files = 1998\n",
    "#n_events = 200000\n",
    "n_events = 2.5E2\n",
    "max_E_log = 8.0\n",
    "min_E_log = 2.0\n",
    "max_zenith = np.pi\n",
    "min_zenith = 0.0\n",
    "\n",
    "bins_log10E = np.logspace(2, 8, 25)\n",
    "color_list = ['b', 'y', 'g', 'r', 'm']\n",
    "\n",
    "# Prepare the figure and subplot\n",
    "plt.figure(figsize=(10,8), dpi=300)\n",
    "ax1 = plt.subplot (1, 1, 1)\n",
    "\n",
    "# Load the MC for each dataset\n",
    "#exp, mc, livetime = Datasets[dataset].season(season)\n",
    "\n",
    "mc = np.load(\"all_mc_combined2_1998.npy\")\n",
    "\n",
    "# Bins\n",
    "#bins_coszen = np.linspace(-1.0,1.0,6)\n",
    "bins_coszen = [180, 120, 95, 90, 60, 0]\n",
    "\n",
    "\n",
    "# Get the histogram and plot the effective area for each zenith band\n",
    "for (i, (coszen_min, coszen_max)) in enumerate (zip (bins_coszen[:-1], bins_coszen[1:])):\n",
    "\n",
    "        h1 = calc_effa(mc, np.cos(np.radians(coszen_min)), np.cos(np.radians(coszen_max)), bins_log10E, n_events*n_files)\n",
    "\n",
    "        ax1.plot (bins_log10E, np.r_[h1, h1[-1]], drawstyle='steps-post', color=color_list[i], linewidth=2,\n",
    "                  label=r'${:.2f} \\leq \\delta  < {:.2f}$'.format ((coszen_max-90), (coszen_min-90.0)))\n",
    "\n",
    "# Plot the overall stuff\n",
    "ax1.set_ylim(1e-1,1e4)  # was 1e-3\n",
    "ax1.set_xlim(1e2, 1e8)\n",
    "\n",
    "plt.grid(True)\n",
    "ax1.set_yscale('log')\n",
    "ax1.set_xscale('log')\n",
    "plt.suptitle('Effective Area GFU Online', size=18)\n",
    "ax1.set_ylabel(r'Effective Area (m$^{2}$)', fontsize=18)\n",
    "ax1.set_xlabel('Neutrino Energy (GeV)', fontsize=18)\n",
    "\n",
    "ax1.legend(loc='upper left', ncol=1, fancybox=True, shadow=True)\n",
    "\n",
    "# Set grid lines\n",
    "for ymaj in ax1.yaxis.get_majorticklocs():\n",
    "        ax1.axhline (y=ymaj,ls=':', color='gray', alpha =0.75, linewidth=0.5)\n",
    "for xmaj in ax1.xaxis.get_majorticklocs():\n",
    "        ax1.axvline (x=xmaj,ls=':', color='gray', alpha =0.75, linewidth=0.5)\n",
    "        \n",
    "plt.savefig('gfu_effa2.png')"
   ]
  },
  {
   "cell_type": "code",
   "execution_count": null,
   "metadata": {},
   "outputs": [],
   "source": []
  },
  {
   "cell_type": "code",
   "execution_count": null,
   "metadata": {},
   "outputs": [],
   "source": []
  }
 ],
 "metadata": {
  "kernelspec": {
   "display_name": "Python 3",
   "language": "python",
   "name": "python3"
  },
  "language_info": {
   "codemirror_mode": {
    "name": "ipython",
    "version": 3
   },
   "file_extension": ".py",
   "mimetype": "text/x-python",
   "name": "python",
   "nbconvert_exporter": "python",
   "pygments_lexer": "ipython3",
   "version": "3.8.6"
  }
 },
 "nbformat": 4,
 "nbformat_minor": 4
}
