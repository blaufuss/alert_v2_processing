{
 "cells": [
  {
   "cell_type": "code",
   "execution_count": null,
   "metadata": {},
   "outputs": [],
   "source": [
    "from icecube import icetray, dataclasses, dataio\n",
    "import numpy as np\n",
    "import glob\n",
    "import json\n",
    "\n",
    "files = glob.glob(\"./search_data/*/Alerts*.i3\")\n",
    "files.sort()\n",
    "print(files)\n"
   ]
  },
  {
   "cell_type": "code",
   "execution_count": null,
   "metadata": {},
   "outputs": [],
   "source": [
    "event_dict = {}\n",
    "for file in files:\n",
    "    ofile = dataio.I3File(file)\n",
    "    while ofile.more():\n",
    "        phys = ofile.pop_physics()\n",
    "        if phys.Has(\"Alert_JSON\"):\n",
    "            header = phys['I3EventHeader']\n",
    "            #print(header.start_time.mod_julian_day_double)\n",
    "            gfu_alert = json.loads(phys['Alert_JSON'].value)\n",
    "            select = 'None'\n",
    "            if gfu_alert['pass_tight']:\n",
    "                select = 'Gold'\n",
    "            else:\n",
    "                if gfu_alert['pass_loose']:\n",
    "                    select = 'Bronze'\n",
    "            #print(file)\n",
    "            print(f\"Run: {gfu_alert['run_id']:6} Event: {gfu_alert['event_id']:8} Subevent:{header.sub_event_id:3} MJD: {header.start_time.mod_julian_day_double:0.2f} \",\\\n",
    "                  f\"RA: {np.rad2deg(gfu_alert['ra']):0.2f} DEC: {np.rad2deg(gfu_alert['dec']):0.2f} ERR50: {np.rad2deg(gfu_alert['err_50']):0.2f} ERR90: {np.rad2deg(gfu_alert['err_90']):0.2f} \",\\\n",
    "                  f\"E_muon:{(gfu_alert['E_muon']/1000.0):0.2f}  E_nu:{(gfu_alert['E_nu_peak']/1000.0):0.2f} Sgns: {gfu_alert['signalness']:0.2f}\",\\\n",
    "                  f\"Selection: {select:10}\")\n",
    "            key = str(gfu_alert['run_id']) + '_' + str(gfu_alert['event_id'])\n",
    "            print(key)                  \n",
    "            event_dict[key] = {\n",
    "                'MJD' : header.start_time.mod_julian_day_double,\n",
    "                'RA' : np.rad2deg(gfu_alert['ra']),\n",
    "                'DEC' : np.rad2deg(gfu_alert['dec']),\n",
    "                'ERR50' : np.rad2deg(gfu_alert['err_50']),\n",
    "                'ERR90' : np.rad2deg(gfu_alert['err_90']),\n",
    "                'E_NU' : gfu_alert['E_nu_peak'],\n",
    "                'SGNS' : gfu_alert['signalness'],\n",
    "                'FAR' : gfu_alert['yearly_rate'],\n",
    "                'SELECTION' : select\n",
    "            }\n",
    "with open('gfu_events.txt', 'w') as outfile:\n",
    "    json.dump(event_dict, outfile)\n",
    "\n",
    "\n",
    "            \n",
    "            \n",
    "            \n",
    "#        fm_hese = phys['FilterMask']['HESEFilter_15']\n",
    "#        if fm_hese.condition_passed:\n",
    "#            if phys.Has('HESE_CausalQTot'):\n",
    "#                cqtot = phys['HESE_CausalQTot'].value\n",
    "#                print('HESE cqtot:',cqtot)"
   ]
  },
  {
   "cell_type": "code",
   "execution_count": null,
   "metadata": {},
   "outputs": [],
   "source": []
  },
  {
   "cell_type": "code",
   "execution_count": null,
   "metadata": {},
   "outputs": [],
   "source": []
  }
 ],
 "metadata": {
  "kernelspec": {
   "display_name": "Python 3",
   "language": "python",
   "name": "python3"
  },
  "language_info": {
   "codemirror_mode": {
    "name": "ipython",
    "version": 3
   },
   "file_extension": ".py",
   "mimetype": "text/x-python",
   "name": "python",
   "nbconvert_exporter": "python",
   "pygments_lexer": "ipython3",
   "version": "3.8.6"
  }
 },
 "nbformat": 4,
 "nbformat_minor": 4
}
