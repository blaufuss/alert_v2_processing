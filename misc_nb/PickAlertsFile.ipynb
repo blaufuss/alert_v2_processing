{
 "cells": [
  {
   "cell_type": "code",
   "execution_count": null,
   "metadata": {},
   "outputs": [],
   "source": [
    "from icecube import icetray, dataclasses, dataio, recclasses\n",
    "import numpy as np\n",
    "import glob\n",
    "import json\n",
    "import I3Tray\n",
    "from realtime_hese.python.HESE_alerts_v2 import *\n",
    "\n",
    "files = glob.glob(\"./search_data/201*/Alerts*.i3\")\n",
    "files.sort()\n",
    "print(files)\n",
    "\n",
    "outfile = 'not_all_hese_gfu.i3'\n"
   ]
  },
  {
   "cell_type": "code",
   "execution_count": null,
   "metadata": {},
   "outputs": [],
   "source": [
    "def find_v2_alerts(frame):\n",
    "    keeper = False\n",
    "    if frame.Has(\"Alert_JSON\"):\n",
    "        gfu_alert = json.loads(frame['Alert_JSON'].value)\n",
    "        if gfu_alert['pass_tight']:\n",
    "            keeper = True\n",
    "        else:\n",
    "            if gfu_alert['pass_loose']:\n",
    "                keeper=True\n",
    "    fm_hese = frame['FilterMask']['HESEFilter_15']\n",
    "    if fm_hese.condition_passed:\n",
    "        cqtot = frame['HESE_CausalQTot'].value\n",
    "        ldir = round(frame['OnlineL2_SplineMPE_DirectHitsB'].dir_track_length,5)\n",
    "        zen = round(frame[\"OnlineL2_SplineMPE\"].dir.zenith, 5)\n",
    "        cos_zen = np.cos(zen)\n",
    "        llh_ratio =round(frame[\"HESE_llhratio\"].value, 5)\n",
    "        pass_precut = (cqtot > 6000.) and (ldir > 200.)\n",
    "        pass_loose  = pass_precut and np.asscalar(HESE_track_selection_soft(cqtot, llh_ratio, cos_zen))\n",
    "        pass_tight  = pass_precut and np.asscalar(HESE_track_selection_hard(cqtot, llh_ratio, cos_zen))\n",
    "        if pass_loose:\n",
    "            keeper=True\n",
    "        if pass_tight:\n",
    "            keeper=True\n",
    "    return not keeper"
   ]
  },
  {
   "cell_type": "code",
   "execution_count": null,
   "metadata": {},
   "outputs": [],
   "source": [
    "tray = I3Tray.I3Tray()\n",
    "tray.AddModule(\"I3Reader\", \"reader\", filenameList=files)\n",
    "tray.AddModule(find_v2_alerts,'find_alerts',Streams=[icetray.I3Frame.Physics])\n",
    "tray.AddModule(\"I3Writer\",\"wrat\",DropOrphanStreams=[icetray.I3Frame.DAQ],\n",
    "               Streams=[icetray.I3Frame.DAQ, icetray.I3Frame.Physics],\n",
    "               filename = outfile)\n",
    "tray.Execute()"
   ]
  },
  {
   "cell_type": "code",
   "execution_count": null,
   "metadata": {},
   "outputs": [],
   "source": []
  }
 ],
 "metadata": {
  "kernelspec": {
   "display_name": "Python 3",
   "language": "python",
   "name": "python3"
  },
  "language_info": {
   "codemirror_mode": {
    "name": "ipython",
    "version": 3
   },
   "file_extension": ".py",
   "mimetype": "text/x-python",
   "name": "python",
   "nbconvert_exporter": "python",
   "pygments_lexer": "ipython3",
   "version": "3.8.6"
  }
 },
 "nbformat": 4,
 "nbformat_minor": 4
}
