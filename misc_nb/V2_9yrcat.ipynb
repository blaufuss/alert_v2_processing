{
 "cells": [
  {
   "cell_type": "code",
   "execution_count": null,
   "metadata": {},
   "outputs": [],
   "source": [
    "import healpy as hp\n",
    "import matplotlib.pyplot as plt\n",
    "import numpy as np\n",
    "import glob\n",
    "\n",
    "file_list = glob.glob(\"./fits_files/Run*.fits.gz\")\n",
    "file_list.sort()\n",
    "#print(file_list)\n",
    "\n",
    "decs = []\n",
    "sigs = []\n",
    "enrgs = []\n",
    "fars = []\n",
    "decs_g = []\n",
    "sigs_g = []\n",
    "enrgs_g = []\n",
    "fars_g = []\n",
    "for fitsfile in file_list:\n",
    "    skymap, header = hp.read_map(fitsfile,h=True, verbose=False)\n",
    "    header = dict(header)\n",
    "    if header is not None:\n",
    "        class_string = ''\n",
    "        for val in ['CASCADE_SCR','THRGOING_SCR','START_SCR','STOP_SCR','SKIMMING_SCR']:\n",
    "            if header[val]>0.03:\n",
    "                class_string = class_string + val + ':' + f'{header[val]:5} '\n",
    "        print(f'{fitsfile[13:32]} MJD: {header[\"EVENTMJD\"]:5.2f} SCAN RA: {header[\"RA\"]:6} (+{header[\"RA_ERR_PLUS\"]:4} -{header[\"RA_ERR_MINUS\"]:4})' \\\n",
    "              f' DEC: {header[\"DEC\"]:6} (+{header[\"DEC_ERR_PLUS\"]:4} -{header[\"DEC_ERR_MINUS\"]:4})' \\\n",
    "              f' E: {header[\"ENERGY\"]:7.2f} S: {(header[\"SIGNAL\"]*100.0):5.2f}%  FAR: {header[\"FAR\"]:7} type:{header[\"I3TYPE\"]:10}' \\\n",
    "              f' {class_string}')\n",
    "        if 'GCN_URL' in header:\n",
    "            print(header['GCN_URL'])\n",
    "        if 'GCN' in header:\n",
    "            print('WRONG GCN NAME TAG!')\n",
    "              #f' CSC_P: {header[\"CASCADE_SCR\"]:5.3} THRU_P: {header[\"THRGOING_SCR\"]:5.3} START_P: {header[\"START_SCR\"]:5.3} STOP_P: {header[\"STOP_SCR\"]:5.3} SKIM_P:{header[\"SKIMMING_SCR\"]:5.3}')\n",
    "              #decs.append(header[\"DEC\"])\n",
    "        #sigs.append(header[\"SIGNAL\"])\n",
    "        #enrgs.append(header[\"ENERGY\"])\n",
    "        #fars.append(header[\"FAR\"])\n",
    "        if 'gold' in header[\"I3TYPE\"]:\n",
    "            decs_g.append(header[\"DEC\"])\n",
    "            sigs_g.append(header[\"SIGNAL\"])\n",
    "            enrgs_g.append(header[\"ENERGY\"])\n",
    "            fars_g.append(header[\"FAR\"])\n",
    "        else:\n",
    "            decs.append(header[\"DEC\"])\n",
    "            sigs.append(header[\"SIGNAL\"])\n",
    "            enrgs.append(header[\"ENERGY\"])\n",
    "            fars.append(header[\"FAR\"])\n",
    "#print(decs,decs_g)\n",
    "#print(sigs,sigs_g)\n",
    "#print(enrgs,enrgs_g)\n",
    "#print(fars,fars_g)\n"
   ]
  },
  {
   "cell_type": "code",
   "execution_count": null,
   "metadata": {},
   "outputs": [],
   "source": [
    "import matplotlib.pyplot as plt\n",
    "\n",
    "fig = plt.figure()\n",
    "sindecs = np.sin(np.deg2rad(decs))\n",
    "sindecs_g = np.sin(np.deg2rad(decs_g))\n",
    "\n",
    "plt.hist([sindecs,sindecs_g],stacked=True, bins=16, label=['Bronze','Gold'])\n",
    "plt.legend(loc=\"upper right\")\n",
    "plt.xlabel('Sin(dec)')\n",
    "plt.ylabel('Number')\n",
    "plt.title('Declination of 9yr catalog')\n",
    "fig.savefig('sindec_dist.png', bbox_inches='tight')\n",
    "\n",
    "print(len(sindecs), len(sindecs_g),len(sindecs) + len(sindecs_g) )"
   ]
  },
  {
   "cell_type": "code",
   "execution_count": null,
   "metadata": {},
   "outputs": [],
   "source": [
    "import matplotlib.pyplot as plt\n",
    "\n",
    "fig = plt.figure()\n",
    "plt.hist([sigs,sigs_g], bins=20,stacked=True,range=[0.,1.0],label=['Bronze','Gold'])\n",
    "plt.legend(loc=\"upper right\")\n",
    "plt.xlabel('Signalness')\n",
    "plt.ylabel('Number')\n",
    "plt.title('Signalness of 9yr catalog')\n",
    "fig.savefig('signalness_dist.png', bbox_inches='tight')"
   ]
  },
  {
   "cell_type": "code",
   "execution_count": null,
   "metadata": {},
   "outputs": [],
   "source": [
    "import matplotlib.pyplot as plt\n",
    "\n",
    "fig = plt.figure()\n",
    "logenrgs = np.log10(enrgs)\n",
    "logenrgs_g = np.log10(enrgs_g)\n",
    "\n",
    "plt.hist([logenrgs,logenrgs_g], bins=20,stacked=True,label=['Bronze','Gold'])\n",
    "plt.xlabel('Log10E (TeV)')\n",
    "plt.ylabel('Number')\n",
    "plt.title('Energy of 9yr catalog')\n",
    "fig.savefig('energy_dist.png', bbox_inches='tight')"
   ]
  },
  {
   "cell_type": "code",
   "execution_count": null,
   "metadata": {},
   "outputs": [],
   "source": [
    "import matplotlib.pyplot as plt\n",
    "\n",
    "fig = plt.figure()\n",
    "plt.hist([fars,fars_g], bins=20,stacked=True,label=['Bronze','Gold'])\n",
    "plt.xlabel('FAR (1/yr)')\n",
    "plt.ylabel('Number')\n",
    "plt.title('False alarm rate of 9yr catalog')\n",
    "fig.savefig('far_dist.png', bbox_inches='tight')"
   ]
  },
  {
   "cell_type": "code",
   "execution_count": null,
   "metadata": {},
   "outputs": [],
   "source": [
    "x = range(100)\n",
    "y = range(100,200)\n",
    "fig = plt.figure()\n",
    "ax1 = fig.add_subplot(111)\n",
    "\n",
    "ax1.scatter(logenrgs,sindecs, s=10, c='b', marker=\"s\", label='Bronze')\n",
    "ax1.scatter(logenrgs_g,sindecs_g, s=10, c='r', marker=\"o\", label='Gold')\n",
    "plt.xlabel('Log10E (TeV)')\n",
    "plt.ylabel('Sin(dec)')\n",
    "plt.legend(loc='upper left')\n",
    "fig.savefig('energ-dec_scatter.png', bbox_inches='tight')\n",
    "plt.show()\n",
    "\n",
    "\n",
    "#plt.scatter(logenrgs,sindecs, label='Bronze')\n",
    "#plt.xlabel('Log10E (TeV)')\n",
    "#plt.ylabel('Sin(dec)')\n",
    "#plt.legend(loc='upper right', fontsize=16,)\n",
    "\n",
    "#plt.show()"
   ]
  },
  {
   "cell_type": "code",
   "execution_count": null,
   "metadata": {},
   "outputs": [],
   "source": []
  }
 ],
 "metadata": {
  "kernelspec": {
   "display_name": "Python 3",
   "language": "python",
   "name": "python3"
  },
  "language_info": {
   "codemirror_mode": {
    "name": "ipython",
    "version": 3
   },
   "file_extension": ".py",
   "mimetype": "text/x-python",
   "name": "python",
   "nbconvert_exporter": "python",
   "pygments_lexer": "ipython3",
   "version": "3.8.6"
  }
 },
 "nbformat": 4,
 "nbformat_minor": 4
}
